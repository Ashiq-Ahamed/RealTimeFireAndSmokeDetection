{
 "cells": [
  {
   "cell_type": "code",
   "execution_count": 5,
   "metadata": {},
   "outputs": [
    {
     "name": "stdout",
     "output_type": "stream",
     "text": [
      "Failed to grab frame\n"
     ]
    }
   ],
   "source": [
    "import cv2\n",
    "import numpy as np\n",
    "\n",
    "# Function to detect fire using color range (Red and Yellow)\n",
    "def detect_fire(frame):\n",
    "    # Convert the frame to HSV color space\n",
    "    hsv = cv2.cvtColor(frame, cv2.COLOR_BGR2HSV)\n",
    "    \n",
    "    # Define the range for detecting fire colors (Red and Yellow)\n",
    "    lower_red = np.array([0, 150, 150])\n",
    "    upper_red = np.array([10, 255, 255])\n",
    "    lower_yellow = np.array([20, 150, 150])\n",
    "    upper_yellow = np.array([40, 255, 255])\n",
    "    \n",
    "    # Mask for fire color range\n",
    "    red_mask = cv2.inRange(hsv, lower_red, upper_red)\n",
    "    yellow_mask = cv2.inRange(hsv, lower_yellow, upper_yellow)\n",
    "    \n",
    "    # Combine both masks\n",
    "    fire_mask = cv2.bitwise_or(red_mask, yellow_mask)\n",
    "    \n",
    "    return fire_mask\n",
    "\n",
    "# Function to detect smoke (based on motion and edge detection)\n",
    "def detect_smoke(frame):\n",
    "    # Convert to grayscale and apply Gaussian blur\n",
    "    gray = cv2.cvtColor(frame, cv2.COLOR_BGR2GRAY)\n",
    "    blurred = cv2.GaussianBlur(gray, (15, 15), 0)\n",
    "    \n",
    "    # Detect edges using Canny Edge Detector\n",
    "    edges = cv2.Canny(blurred, 100, 200)\n",
    "    \n",
    "    return edges\n",
    "\n",
    "# Main function to capture video and process frames\n",
    "def real_time_fire_smoke_detection(video_source=0):\n",
    "    # Start video capture (use 0 for webcam, or provide video file path)\n",
    "    cap = cv2.VideoCapture(\"sample.mp4\")\n",
    "    \n",
    "    while True:\n",
    "        ret, frame = cap.read()\n",
    "        \n",
    "        if not ret:\n",
    "            print(\"Failed to grab frame\")\n",
    "            break\n",
    "        \n",
    "        # Detect fire in the frame\n",
    "        fire_mask = detect_fire(frame)\n",
    "        \n",
    "        # Detect smoke in the frame\n",
    "        smoke_edges = detect_smoke(frame)\n",
    "        \n",
    "        # Combine the fire and smoke detections\n",
    "        combined_output = cv2.bitwise_or(fire_mask, smoke_edges)\n",
    "        \n",
    "        # Display the original frame and the results\n",
    "        cv2.imshow('Original Frame', frame)\n",
    "        cv2.imshow('Fire Detection', fire_mask)\n",
    "        cv2.imshow('Smoke Detection (Edges)', smoke_edges)\n",
    "        cv2.imshow('Combined Output', combined_output)\n",
    "        \n",
    "        # Exit on 'q' key press\n",
    "        if cv2.waitKey(1) & 0xFF == ord('q'):\n",
    "            break\n",
    "    \n",
    "    # Release the video capture and close windows\n",
    "    cap.release()\n",
    "    cv2.destroyAllWindows()\n",
    "\n",
    "# Run the real-time fire and smoke detection\n",
    "real_time_fire_smoke_detection()\n"
   ]
  },
  {
   "cell_type": "code",
   "execution_count": 4,
   "metadata": {},
   "outputs": [
    {
     "name": "stdout",
     "output_type": "stream",
     "text": [
      "Requirement already satisfied: opencv-python in c:\\program files\\python310\\lib\\site-packages (4.11.0.86)\n",
      "Requirement already satisfied: numpy>=1.19.3 in c:\\program files\\python310\\lib\\site-packages (from opencv-python) (2.2.3)\n",
      "Note: you may need to restart the kernel to use updated packages.\n"
     ]
    },
    {
     "name": "stderr",
     "output_type": "stream",
     "text": [
      "\n",
      "[notice] A new release of pip available: 22.2.1 -> 25.1.1\n",
      "[notice] To update, run: python.exe -m pip install --upgrade pip\n"
     ]
    }
   ],
   "source": [
    "pip install opencv-python"
   ]
  }
 ],
 "metadata": {
  "kernelspec": {
   "display_name": "Python 3",
   "language": "python",
   "name": "python3"
  },
  "language_info": {
   "codemirror_mode": {
    "name": "ipython",
    "version": 3
   },
   "file_extension": ".py",
   "mimetype": "text/x-python",
   "name": "python",
   "nbconvert_exporter": "python",
   "pygments_lexer": "ipython3",
   "version": "3.11.5"
  }
 },
 "nbformat": 4,
 "nbformat_minor": 2
}
